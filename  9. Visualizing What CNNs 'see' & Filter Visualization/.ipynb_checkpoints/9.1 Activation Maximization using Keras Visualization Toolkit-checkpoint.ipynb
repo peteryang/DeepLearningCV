{
 "cells": [
  {
   "cell_type": "markdown",
   "metadata": {},
   "source": [
    "## Activation Maximization on MNIST"
   ]
  },
  {
   "cell_type": "markdown",
   "metadata": {},
   "source": [
    "https://github.com/raghakot/keras-vis/blob/master/examples/mnist/activation_maximization.ipynb"
   ]
  },
  {
   "cell_type": "code",
   "execution_count": 1,
   "metadata": {},
   "outputs": [
    {
     "name": "stderr",
     "output_type": "stream",
     "text": [
      "Using TensorFlow backend.\n",
      "WARNING: Logging before flag parsing goes to stderr.\n",
      "W0728 13:57:09.635999  4440 deprecation_wrapper.py:119] From D:\\development\\anaconda3\\envs\\dlcv\\lib\\site-packages\\keras\\backend\\tensorflow_backend.py:74: The name tf.get_default_graph is deprecated. Please use tf.compat.v1.get_default_graph instead.\n",
      "\n",
      "W0728 13:57:09.654000  4440 deprecation_wrapper.py:119] From D:\\development\\anaconda3\\envs\\dlcv\\lib\\site-packages\\keras\\backend\\tensorflow_backend.py:517: The name tf.placeholder is deprecated. Please use tf.compat.v1.placeholder instead.\n",
      "\n",
      "W0728 13:57:09.659000  4440 deprecation_wrapper.py:119] From D:\\development\\anaconda3\\envs\\dlcv\\lib\\site-packages\\keras\\backend\\tensorflow_backend.py:4138: The name tf.random_uniform is deprecated. Please use tf.random.uniform instead.\n",
      "\n",
      "W0728 13:57:09.705999  4440 deprecation_wrapper.py:119] From D:\\development\\anaconda3\\envs\\dlcv\\lib\\site-packages\\keras\\backend\\tensorflow_backend.py:3976: The name tf.nn.max_pool is deprecated. Please use tf.nn.max_pool2d instead.\n",
      "\n",
      "W0728 13:57:09.708999  4440 deprecation_wrapper.py:119] From D:\\development\\anaconda3\\envs\\dlcv\\lib\\site-packages\\keras\\backend\\tensorflow_backend.py:133: The name tf.placeholder_with_default is deprecated. Please use tf.compat.v1.placeholder_with_default instead.\n",
      "\n",
      "W0728 13:57:09.721999  4440 deprecation.py:506] From D:\\development\\anaconda3\\envs\\dlcv\\lib\\site-packages\\keras\\backend\\tensorflow_backend.py:3445: calling dropout (from tensorflow.python.ops.nn_ops) with keep_prob is deprecated and will be removed in a future version.\n",
      "Instructions for updating:\n",
      "Please use `rate` instead of `keep_prob`. Rate should be set to `rate = 1 - keep_prob`.\n",
      "W0728 13:57:09.809999  4440 deprecation_wrapper.py:119] From D:\\development\\anaconda3\\envs\\dlcv\\lib\\site-packages\\keras\\optimizers.py:790: The name tf.train.Optimizer is deprecated. Please use tf.compat.v1.train.Optimizer instead.\n",
      "\n"
     ]
    },
    {
     "name": "stdout",
     "output_type": "stream",
     "text": [
      "x_train shape: (60000, 28, 28, 1)\n",
      "60000 train samples\n",
      "10000 test samples\n"
     ]
    },
    {
     "name": "stderr",
     "output_type": "stream",
     "text": [
      "W0728 13:57:09.817999  4440 deprecation_wrapper.py:119] From D:\\development\\anaconda3\\envs\\dlcv\\lib\\site-packages\\keras\\backend\\tensorflow_backend.py:3295: The name tf.log is deprecated. Please use tf.math.log instead.\n",
      "\n",
      "W0728 13:57:09.910000  4440 deprecation.py:323] From D:\\development\\anaconda3\\envs\\dlcv\\lib\\site-packages\\tensorflow\\python\\ops\\math_grad.py:1250: add_dispatch_support.<locals>.wrapper (from tensorflow.python.ops.array_ops) is deprecated and will be removed in a future version.\n",
      "Instructions for updating:\n",
      "Use tf.where in 2.0, which has the same broadcast rule as np.where\n"
     ]
    },
    {
     "name": "stdout",
     "output_type": "stream",
     "text": [
      "Train on 60000 samples, validate on 10000 samples\n",
      "Epoch 1/1\n",
      "60000/60000 [==============================] - 100s 2ms/step - loss: 0.2582 - acc: 0.9211 - val_loss: 0.0514 - val_acc: 0.9838\n",
      "Test loss: 0.051444985012011606\n",
      "Test accuracy: 0.9838\n"
     ]
    }
   ],
   "source": [
    "from __future__ import print_function\n",
    "\n",
    "import numpy as np\n",
    "import keras\n",
    "\n",
    "from keras.datasets import mnist\n",
    "from keras.models import Sequential, Model\n",
    "from keras.layers import Dense, Dropout, Flatten, Activation, Input\n",
    "from keras.layers import Conv2D, MaxPooling2D\n",
    "from keras import backend as K\n",
    "\n",
    "batch_size = 128\n",
    "num_classes = 10\n",
    "epochs = 1\n",
    "\n",
    "# input image dimensions\n",
    "img_rows, img_cols = 28, 28\n",
    "\n",
    "# the data, shuffled and split between train and test sets\n",
    "(x_train, y_train), (x_test, y_test) = mnist.load_data()\n",
    "\n",
    "if K.image_data_format() == 'channels_first':\n",
    "    x_train = x_train.reshape(x_train.shape[0], 1, img_rows, img_cols)\n",
    "    x_test = x_test.reshape(x_test.shape[0], 1, img_rows, img_cols)\n",
    "    input_shape = (1, img_rows, img_cols)\n",
    "else:\n",
    "    x_train = x_train.reshape(x_train.shape[0], img_rows, img_cols, 1)\n",
    "    x_test = x_test.reshape(x_test.shape[0], img_rows, img_cols, 1)\n",
    "    input_shape = (img_rows, img_cols, 1)\n",
    "\n",
    "x_train = x_train.astype('float32')\n",
    "x_test = x_test.astype('float32')\n",
    "x_train /= 255\n",
    "x_test /= 255\n",
    "print('x_train shape:', x_train.shape)\n",
    "print(x_train.shape[0], 'train samples')\n",
    "print(x_test.shape[0], 'test samples')\n",
    "\n",
    "# convert class vectors to binary class matrices\n",
    "y_train = keras.utils.to_categorical(y_train, num_classes)\n",
    "y_test = keras.utils.to_categorical(y_test, num_classes)\n",
    "\n",
    "model = Sequential()\n",
    "model.add(Conv2D(32, kernel_size=(3, 3),\n",
    "                 activation='relu',\n",
    "                 input_shape=input_shape))\n",
    "model.add(Conv2D(64, (3, 3), activation='relu'))\n",
    "model.add(MaxPooling2D(pool_size=(2, 2)))\n",
    "model.add(Dropout(0.25))\n",
    "model.add(Flatten())\n",
    "model.add(Dense(128, activation='relu'))\n",
    "model.add(Dropout(0.5))\n",
    "model.add(Dense(num_classes, activation='softmax', name='preds'))\n",
    "\n",
    "model.compile(loss=keras.losses.categorical_crossentropy,\n",
    "              optimizer=keras.optimizers.Adam(),\n",
    "              metrics=['accuracy'])\n",
    "\n",
    "model.fit(x_train, y_train,\n",
    "          batch_size=batch_size,\n",
    "          epochs=epochs,\n",
    "          verbose=1,\n",
    "          validation_data=(x_test, y_test))\n",
    "\n",
    "score = model.evaluate(x_test, y_test, verbose=0)\n",
    "print('Test loss:', score[0])\n",
    "print('Test accuracy:', score[1])"
   ]
  },
  {
   "cell_type": "code",
   "execution_count": null,
   "metadata": {},
   "outputs": [],
   "source": []
  },
  {
   "cell_type": "markdown",
   "metadata": {},
   "source": [
    "### Visualizing our Dense Layers"
   ]
  },
  {
   "cell_type": "markdown",
   "metadata": {},
   "source": [
    "\n",
    "\n",
    "To visualize activation over final dense layer outputs, we need to **switch the softmax activation out for linear** since gradient of our output node will depend on all the other node activations. \n",
    "\n",
    "Doing this in keras is tricky, so they have provided **utils.apply_modifications** to modify network parameters and rebuild the graph.\n",
    "\n",
    "If this swapping is not done, the results might be suboptimal. We will start by swapping out 'softmax' for 'linear' and compare what happens if we don't do this at the end.\n",
    "\n",
    "Lets start by visualizing an input that maximizes the output of node 0. This should look like a 0.\n"
   ]
  },
  {
   "cell_type": "code",
   "execution_count": null,
   "metadata": {
    "scrolled": true
   },
   "outputs": [],
   "source": [
    "import sys\n",
    "!{sys.executable} -m pip install git+https://github.com/raghakot/keras-vis.git -U\n"
   ]
  },
  {
   "cell_type": "code",
   "execution_count": null,
   "metadata": {},
   "outputs": [],
   "source": [
    "model.summary()"
   ]
  },
  {
   "cell_type": "code",
   "execution_count": 2,
   "metadata": {},
   "outputs": [
    {
     "data": {
      "text/plain": [
       "<function keras.activations.softmax(x, axis=-1)>"
      ]
     },
     "execution_count": 2,
     "metadata": {},
     "output_type": "execute_result"
    }
   ],
   "source": [
    "model.layers[-1].activation"
   ]
  },
  {
   "cell_type": "code",
   "execution_count": 3,
   "metadata": {
    "scrolled": true
   },
   "outputs": [
    {
     "name": "stdout",
     "output_type": "stream",
     "text": [
      "_________________________________________________________________\n",
      "Layer (type)                 Output Shape              Param #   \n",
      "=================================================================\n",
      "conv2d_1 (Conv2D)            (None, 26, 26, 32)        320       \n",
      "_________________________________________________________________\n",
      "conv2d_2 (Conv2D)            (None, 24, 24, 64)        18496     \n",
      "_________________________________________________________________\n",
      "max_pooling2d_1 (MaxPooling2 (None, 12, 12, 64)        0         \n",
      "_________________________________________________________________\n",
      "dropout_1 (Dropout)          (None, 12, 12, 64)        0         \n",
      "_________________________________________________________________\n",
      "flatten_1 (Flatten)          (None, 9216)              0         \n",
      "_________________________________________________________________\n",
      "dense_1 (Dense)              (None, 128)               1179776   \n",
      "_________________________________________________________________\n",
      "dropout_2 (Dropout)          (None, 128)               0         \n",
      "_________________________________________________________________\n",
      "preds (Dense)                (None, 10)                1290      \n",
      "=================================================================\n",
      "Total params: 1,199,882\n",
      "Trainable params: 1,199,882\n",
      "Non-trainable params: 0\n",
      "_________________________________________________________________\n"
     ]
    }
   ],
   "source": [
    "from vis.visualization import visualize_activation\n",
    "from vis.utils import utils\n",
    "from keras import activations\n",
    "from matplotlib import pyplot as plt\n",
    "%matplotlib inline\n",
    "\n",
    "plt.rcParams['figure.figsize'] = (18, 6)\n",
    "\n",
    "# Utility to search for layer index by name. \n",
    "# Alternatively we can specify this as -1 since it corresponds to the last layer.\n",
    "layer_idx = utils.find_layer_idx(model, 'preds')\n",
    "\n",
    "# Swap softmax with linear\n",
    "model.layers[layer_idx].activation = activations.linear\n",
    "model = utils.apply_modifications(model)\n",
    "\n",
    "model.summary()"
   ]
  },
  {
   "cell_type": "code",
   "execution_count": 4,
   "metadata": {},
   "outputs": [
    {
     "name": "stdout",
     "output_type": "stream",
     "text": [
      "[0. 0. 0. ... 0. 0. 0.]\n",
      "(array([   3,   10,   13,   25,   28,   55,   69,   71,  101,  126,  136,\n",
      "        148,  157,  183,  188,  192,  194,  215,  246,  269,  271,  294,\n",
      "        296,  297,  305,  311,  312,  324,  327,  346,  365,  372,  380,\n",
      "        407,  424,  440,  441,  443,  459,  485,  490,  498,  525,  545,\n",
      "        546,  552,  561,  564,  567,  581,  586,  592,  597,  608,  611,\n",
      "        620,  642,  644,  656,  661,  701,  704,  713,  717,  721,  723,\n",
      "        742,  750,  763,  794,  804,  821,  845,  851,  854,  871,  884,\n",
      "        895,  896,  904,  932,  972,  981,  993,  997, 1001, 1009, 1034,\n",
      "       1047, 1061, 1084, 1094, 1121, 1148, 1154, 1176, 1188, 1191, 1195,\n",
      "       1197, 1203, 1218, 1220, 1223, 1231, 1246, 1261, 1271, 1273, 1288,\n",
      "       1294, 1297, 1333, 1379, 1390, 1399, 1404, 1408, 1411, 1416, 1438,\n",
      "       1445, 1454, 1457, 1468, 1487, 1504, 1517, 1526, 1533, 1534, 1535,\n",
      "       1558, 1565, 1570, 1589, 1590, 1610, 1619, 1621, 1623, 1638, 1650,\n",
      "       1692, 1700, 1708, 1712, 1713, 1723, 1726, 1739, 1748, 1757, 1762,\n",
      "       1764, 1768, 1775, 1777, 1794, 1796, 1807, 1808, 1826, 1841, 1843,\n",
      "       1870, 1892, 1898, 1907, 1918, 1944, 1959, 1972, 1987, 1995, 2023,\n",
      "       2033, 2042, 2060, 2061, 2067, 2081, 2087, 2096, 2106, 2127, 2155,\n",
      "       2178, 2185, 2188, 2190, 2204, 2209, 2217, 2226, 2236, 2294, 2295,\n",
      "       2304, 2318, 2326, 2328, 2329, 2333, 2370, 2376, 2378, 2384, 2385,\n",
      "       2403, 2410, 2417, 2435, 2449, 2455, 2461, 2479, 2485, 2492, 2506,\n",
      "       2527, 2531, 2536, 2557, 2568, 2571, 2592, 2593, 2619, 2627, 2631,\n",
      "       2638, 2641, 2649, 2656, 2657, 2660, 2687, 2703, 2707, 2713, 2714,\n",
      "       2717, 2733, 2747, 2748, 2761, 2763, 2764, 2765, 2777, 2779, 2794,\n",
      "       2811, 2817, 2821, 2824, 2842, 2873, 2894, 2899, 2932, 2937, 2942,\n",
      "       2944, 2954, 2962, 2972, 2988, 2996, 2999, 3013, 3016, 3020, 3032,\n",
      "       3043, 3044, 3052, 3077, 3087, 3090, 3140, 3170, 3178, 3179, 3185,\n",
      "       3191, 3210, 3215, 3219, 3226, 3242, 3243, 3251, 3265, 3266, 3271,\n",
      "       3297, 3305, 3306, 3310, 3315, 3317, 3322, 3325, 3346, 3347, 3358,\n",
      "       3359, 3368, 3371, 3401, 3412, 3413, 3417, 3439, 3445, 3446, 3450,\n",
      "       3458, 3479, 3481, 3496, 3512, 3536, 3540, 3574, 3581, 3584, 3608,\n",
      "       3613, 3624, 3634, 3640, 3646, 3650, 3660, 3677, 3680, 3695, 3698,\n",
      "       3706, 3710, 3724, 3734, 3735, 3764, 3768, 3774, 3790, 3803, 3804,\n",
      "       3805, 3818, 3830, 3847, 3849, 3864, 3867, 3870, 3883, 3895, 3903,\n",
      "       3911, 3940, 3942, 3959, 3980, 3982, 3989, 4023, 4033, 4034, 4043,\n",
      "       4048, 4062, 4065, 4070, 4079, 4080, 4082, 4090, 4091, 4146, 4150,\n",
      "       4155, 4157, 4166, 4186, 4188, 4208, 4227, 4241, 4278, 4281, 4282,\n",
      "       4286, 4320, 4327, 4329, 4343, 4348, 4351, 4353, 4361, 4365, 4370,\n",
      "       4392, 4403, 4404, 4432, 4447, 4448, 4457, 4462, 4470, 4473, 4477,\n",
      "       4495, 4515, 4527, 4531, 4542, 4554, 4604, 4611, 4614, 4617, 4628,\n",
      "       4631, 4641, 4642, 4650, 4672, 4675, 4718, 4720, 4739, 4741, 4757,\n",
      "       4776, 4780, 4788, 4804, 4819, 4824, 4834, 4857, 4862, 4880, 4887,\n",
      "       4891, 4923, 4935, 4937, 4957, 4958, 4959, 4992, 4999, 5006, 5008,\n",
      "       5031, 5033, 5035, 5043, 5051, 5069, 5079, 5087, 5108, 5109, 5124,\n",
      "       5133, 5139, 5141, 5147, 5155, 5165, 5241, 5243, 5244, 5249, 5251,\n",
      "       5253, 5255, 5257, 5259, 5270, 5280, 5290, 5301, 5305, 5307, 5320,\n",
      "       5321, 5337, 5342, 5353, 5368, 5369, 5398, 5405, 5415, 5428, 5430,\n",
      "       5435, 5443, 5450, 5452, 5459, 5463, 5470, 5483, 5505, 5513, 5519,\n",
      "       5526, 5529, 5531, 5554, 5567, 5584, 5592, 5593, 5603, 5613, 5652,\n",
      "       5653, 5659, 5669, 5673, 5684, 5685, 5686, 5695, 5718, 5721, 5731,\n",
      "       5737, 5750, 5756, 5778, 5791, 5806, 5812, 5818, 5827, 5828, 5830,\n",
      "       5838, 5847, 5865, 5870, 5890, 5899, 5918, 5929, 5930, 5932, 5942,\n",
      "       5952, 5965, 5974, 5980, 5987, 5990, 5993, 6003, 6015, 6016, 6040,\n",
      "       6062, 6072, 6082, 6097, 6099, 6114, 6117, 6127, 6129, 6131, 6133,\n",
      "       6140, 6163, 6181, 6191, 6201, 6211, 6241, 6250, 6259, 6264, 6280,\n",
      "       6286, 6287, 6288, 6293, 6309, 6319, 6328, 6342, 6344, 6351, 6383,\n",
      "       6398, 6400, 6424, 6426, 6428, 6429, 6437, 6444, 6454, 6461, 6470,\n",
      "       6473, 6478, 6489, 6510, 6526, 6532, 6546, 6557, 6567, 6580, 6583,\n",
      "       6588, 6590, 6597, 6602, 6621, 6633, 6643, 6651, 6672, 6701, 6711,\n",
      "       6719, 6750, 6752, 6753, 6760, 6766, 6770, 6779, 6781, 6786, 6795,\n",
      "       6798, 6808, 6818, 6833, 6835, 6841, 6843, 6877, 6892, 6894, 6921,\n",
      "       6923, 6925, 6927, 6937, 6947, 6959, 6962, 6968, 6970, 6971, 6978,\n",
      "       6979, 7031, 7037, 7049, 7052, 7062, 7072, 7084, 7086, 7112, 7129,\n",
      "       7133, 7139, 7161, 7162, 7168, 7175, 7190, 7202, 7203, 7216, 7221,\n",
      "       7225, 7231, 7255, 7261, 7263, 7269, 7279, 7289, 7317, 7330, 7337,\n",
      "       7342, 7354, 7363, 7367, 7368, 7381, 7385, 7410, 7440, 7446, 7449,\n",
      "       7452, 7465, 7485, 7491, 7505, 7506, 7516, 7526, 7536, 7537, 7555,\n",
      "       7558, 7566, 7593, 7599, 7601, 7607, 7617, 7625, 7646, 7655, 7671,\n",
      "       7688, 7693, 7699, 7702, 7703, 7706, 7723, 7727, 7737, 7747, 7780,\n",
      "       7782, 7791, 7810, 7817, 7820, 7830, 7835, 7838, 7846, 7855, 7866,\n",
      "       7868, 7873, 7882, 7887, 7889, 7898, 7907, 7913, 7933, 7943, 7953,\n",
      "       7967, 7987, 7989, 8007, 8016, 8021, 8023, 8029, 8055, 8056, 8057,\n",
      "       8067, 8077, 8085, 8098, 8111, 8114, 8117, 8127, 8137, 8152, 8163,\n",
      "       8172, 8179, 8194, 8195, 8199, 8212, 8221, 8228, 8243, 8251, 8260,\n",
      "       8273, 8278, 8283, 8307, 8325, 8335, 8338, 8342, 8343, 8351, 8359,\n",
      "       8373, 8382, 8388, 8389, 8414, 8425, 8448, 8458, 8468, 8481, 8490,\n",
      "       8496, 8501, 8513, 8514, 8528, 8535, 8548, 8558, 8567, 8576, 8587,\n",
      "       8595, 8611, 8614, 8619, 8621, 8629, 8634, 8657, 8671, 8681, 8691,\n",
      "       8730, 8731, 8738, 8748, 8752, 8763, 8764, 8765, 8772, 8795, 8798,\n",
      "       8808, 8818, 8845, 8849, 8851, 8858, 8859, 8865, 8868, 8881, 8895,\n",
      "       8913, 8921, 8929, 8951, 8978, 8983, 8991, 8992, 8999, 9004, 9016,\n",
      "       9037, 9038, 9052, 9060, 9070, 9080, 9095, 9105, 9134, 9137, 9158,\n",
      "       9162, 9167, 9174, 9179, 9189, 9199, 9220, 9221, 9223, 9230, 9236,\n",
      "       9239, 9244, 9264, 9273, 9281, 9296, 9297, 9310, 9311, 9325, 9339,\n",
      "       9352, 9358, 9367, 9377, 9387, 9396, 9405, 9414, 9425, 9436, 9439,\n",
      "       9440, 9455, 9457, 9459, 9488, 9498, 9508, 9519, 9527, 9528, 9542,\n",
      "       9552, 9585, 9601, 9611, 9621, 9631, 9633, 9634, 9647, 9648, 9663,\n",
      "       9666, 9677, 9687, 9688, 9704, 9714, 9724, 9739, 9753, 9757, 9761,\n",
      "       9763, 9791, 9800, 9801, 9809, 9818, 9826, 9850, 9865, 9879, 9885,\n",
      "       9897, 9902, 9911, 9930, 9939, 9948, 9951, 9952, 9962, 9964, 9983,\n",
      "       9993], dtype=int64),)\n"
     ]
    }
   ],
   "source": [
    "filter_idx = 0\n",
    "print(y_test[:, filter_idx])\n",
    "indices = np.where(y_test[:, filter_idx] == 1.)\n",
    "#print(indices)"
   ]
  },
  {
   "cell_type": "code",
   "execution_count": null,
   "metadata": {
    "scrolled": true
   },
   "outputs": [],
   "source": [
    "# This is the output node we want to maximize.\n",
    "img = visualize_activation(model, layer_idx, filter_indices=filter_idx, seed_input=x_test[indices[0]])\n",
    "plt.imshow(img[..., 0])"
   ]
  },
  {
   "cell_type": "code",
   "execution_count": null,
   "metadata": {},
   "outputs": [],
   "source": [
    "len(model.layers)\n",
    "layer_idx=7"
   ]
  },
  {
   "cell_type": "code",
   "execution_count": 8,
   "metadata": {},
   "outputs": [
    {
     "name": "stdout",
     "output_type": "stream",
     "text": [
      "10\n"
     ]
    }
   ],
   "source": [
    "numberOfFilters = K.int_shape(model.layers[layer_idx].output)[-1]\n",
    "print(numberOfFilters)"
   ]
  },
  {
   "cell_type": "code",
   "execution_count": null,
   "metadata": {},
   "outputs": [],
   "source": [
    "for filter_index in range(0, numberOfFilters):\n",
    "    plt.subplot(1,numberOfFilters,filter_index+1)\n",
    "    img = visualize_activation(model, layer_idx, filter_indices=filter_index,input_range=(0., 1.),seed_input=x_test[indices[0]])\n",
    "    plt.imshow(img[..., 0])\n",
    "\n",
    "# Display out plots\n",
    "plt.show()\n"
   ]
  },
  {
   "cell_type": "markdown",
   "metadata": {},
   "source": [
    "While this sort of looks like a 0, it's not as clear as we hoped for. \n",
    "\n",
    "The reason is because because regularization parameters needs to be tuned depending on the problem. This can be improved by:\n",
    "\n",
    "- The input to network is preprocessed to range (0, 1). We should specify input_range = (0., 1.) to constrain the input to this range.\n",
    "- The regularization parameter default weights might be dominating activation maximization loss weight. One way to debug this is to use verbose=True and examine individual loss values.\n",
    " \n",
    "Lets do these step by step and see if we can improve it.\n"
   ]
  },
  {
   "cell_type": "markdown",
   "metadata": {},
   "source": [
    "## Specifying the Input Range"
   ]
  },
  {
   "cell_type": "markdown",
   "metadata": {},
   "source": [
    "### First lets explore what the individual losses look like "
   ]
  },
  {
   "cell_type": "code",
   "execution_count": 6,
   "metadata": {
    "scrolled": false
   },
   "outputs": [
    {
     "data": {
      "text/plain": [
       "<matplotlib.image.AxesImage at 0x2a13b0f0>"
      ]
     },
     "execution_count": 6,
     "metadata": {},
     "output_type": "execute_result"
    },
    {
     "data": {
      "image/png": "[encoded data removed]",
      "text/plain": [
       "<Figure size 432x288 with 1 Axes>"
      ]
     },
     "metadata": {
      "needs_background": "light"
     },
     "output_type": "display_data"
    }
   ],
   "source": [
    "img = visualize_activation(model, layer_idx, filter_indices=filter_idx, input_range=(0., 1.), verbose=False)\n",
    "plt.imshow(img[..., 0])"
   ]
  },
  {
   "cell_type": "code",
   "execution_count": null,
   "metadata": {},
   "outputs": [],
   "source": [
    "for filter_index in range(0, numberOfFilters):\n",
    "    plt.subplot(1,numberOfFilters,filter_index+1)\n",
    "    img = visualize_activation(model, layer_idx, filter_indices=filter_index, input_range=(0., 1.))\n",
    "    plt.imshow(img[..., 0])\n",
    "\n",
    "# Display out plots\n",
    "plt.show()"
   ]
  },
  {
   "cell_type": "code",
   "execution_count": null,
   "metadata": {},
   "outputs": [],
   "source": [
    "f, ax = plt.subplots(1, numberOfFilters)\n",
    "f.set_figheight(15)  #inch\n",
    "f.set_figwidth(15)\n",
    "for filter_index in np.arange(numberOfFilters):\n",
    "    img = visualize_activation(model, layer_idx, filter_indices=filter_index, input_range=(0., 1.))\n",
    "    ax[filter_index].set_title(str(filter_index))    \n",
    "    ax[filter_index].imshow(img[..., 0])\n",
    "plt.show()"
   ]
  },
  {
   "cell_type": "markdown",
   "metadata": {},
   "source": [
    "### Now let's do it for all classes"
   ]
  },
  {
   "cell_type": "code",
   "execution_count": null,
   "metadata": {
    "scrolled": false
   },
   "outputs": [],
   "source": [
    "# Generating visualizations for all classes (0-9)\n",
    "for output_idx in np.arange(10):\n",
    "    img = visualize_activation(model, layer_idx, filter_indices=output_idx, input_range=(0., 1.))\n",
    "    plt.figure()\n",
    "    plt.title('Networks perception of {}'.format(output_idx))\n",
    "    plt.imshow(img[..., 0])"
   ]
  },
  {
   "cell_type": "code",
   "execution_count": null,
   "metadata": {},
   "outputs": [],
   "source": []
  }
 ],
 "metadata": {
  "kernelspec": {
   "display_name": "Python 3",
   "language": "python",
   "name": "python3"
  },
  "language_info": {
   "codemirror_mode": {
    "name": "ipython",
    "version": 3
   },
   "file_extension": ".py",
   "mimetype": "text/x-python",
   "name": "python",
   "nbconvert_exporter": "python",
   "pygments_lexer": "ipython3",
   "version": "3.6.8"
  }
 },
 "nbformat": 4,
 "nbformat_minor": 2
}
